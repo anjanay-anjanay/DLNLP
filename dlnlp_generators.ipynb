{
  "nbformat": 4,
  "nbformat_minor": 0,
  "metadata": {
    "colab": {
      "provenance": [],
      "cell_execution_strategy": "setup",
      "authorship_tag": "ABX9TyMKrmbulphFi/KYwVMczqEU",
      "include_colab_link": true
    },
    "kernelspec": {
      "name": "python3",
      "display_name": "Python 3"
    },
    "language_info": {
      "name": "python"
    }
  },
  "cells": [
    {
      "cell_type": "markdown",
      "metadata": {
        "id": "view-in-github",
        "colab_type": "text"
      },
      "source": [
        "<a href=\"https://colab.research.google.com/github/anjanay-anjanay/DLNLP/blob/main/dlnlp_generators.ipynb\" target=\"_parent\"><img src=\"https://colab.research.google.com/assets/colab-badge.svg\" alt=\"Open In Colab\"/></a>"
      ]
    },
    {
      "cell_type": "code",
      "execution_count": 13,
      "metadata": {
        "id": "WVkNOaZKMo68"
      },
      "outputs": [],
      "source": [
        "def xyz(x):\n",
        "  x=x+1\n",
        "  while True:\n",
        "    x= x**2\n",
        "    yield x"
      ]
    },
    {
      "cell_type": "code",
      "source": [
        "t = xyz(2)"
      ],
      "metadata": {
        "id": "AbVB-MnxM5SD"
      },
      "execution_count": 14,
      "outputs": []
    },
    {
      "cell_type": "code",
      "source": [
        "next(t)"
      ],
      "metadata": {
        "colab": {
          "base_uri": "https://localhost:8080/"
        },
        "id": "4O5hkP_KNodx",
        "outputId": "26baeca7-15f7-469c-e139-aee4e998adfb"
      },
      "execution_count": 18,
      "outputs": [
        {
          "output_type": "execute_result",
          "data": {
            "text/plain": [
              "43046721"
            ]
          },
          "metadata": {},
          "execution_count": 18
        }
      ]
    },
    {
      "cell_type": "markdown",
      "source": [],
      "metadata": {
        "id": "ewEdN6NDOFay"
      }
    },
    {
      "cell_type": "code",
      "source": [
        "def abc(x,y):\n",
        "  y=x+1\n",
        "  while True:\n",
        "    y=y+8\n",
        "    yield y\n",
        "    y=y+9"
      ],
      "metadata": {
        "id": "dYXzx2D6NxbS"
      },
      "execution_count": 19,
      "outputs": []
    },
    {
      "cell_type": "code",
      "source": [
        "t = abc(2,3)"
      ],
      "metadata": {
        "id": "J_aO8qhFPwwJ"
      },
      "execution_count": 25,
      "outputs": []
    },
    {
      "cell_type": "code",
      "source": [
        "next(t)"
      ],
      "metadata": {
        "colab": {
          "base_uri": "https://localhost:8080/"
        },
        "id": "x1f3MeXwP0BZ",
        "outputId": "ba84eee2-fda7-4ae5-880d-f621c121db80"
      },
      "execution_count": 26,
      "outputs": [
        {
          "output_type": "execute_result",
          "data": {
            "text/plain": [
              "11"
            ]
          },
          "metadata": {},
          "execution_count": 26
        }
      ]
    },
    {
      "cell_type": "code",
      "source": [],
      "metadata": {
        "id": "OcLBZPJNP22p"
      },
      "execution_count": null,
      "outputs": []
    }
  ]
}